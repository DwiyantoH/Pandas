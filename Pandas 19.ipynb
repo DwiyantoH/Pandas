{
 "cells": [
  {
   "cell_type": "code",
   "execution_count": null,
   "id": "83d768bc",
   "metadata": {},
   "outputs": [],
   "source": [
    "#formating tampilan pada data frame"
   ]
  },
  {
   "cell_type": "code",
   "execution_count": 2,
   "id": "048be9bc",
   "metadata": {},
   "outputs": [
    {
     "name": "stdout",
     "output_type": "stream",
     "text": [
      "1.3.4\n",
      "1.20.3\n"
     ]
    }
   ],
   "source": [
    "import pandas as pd\n",
    "import numpy as np\n",
    "\n",
    "print(pd.__version__)\n",
    "print(np.__version__)\n"
   ]
  },
  {
   "cell_type": "code",
   "execution_count": 3,
   "id": "cd8bfe66",
   "metadata": {},
   "outputs": [
    {
     "data": {
      "text/html": [
       "<div>\n",
       "<style scoped>\n",
       "    .dataframe tbody tr th:only-of-type {\n",
       "        vertical-align: middle;\n",
       "    }\n",
       "\n",
       "    .dataframe tbody tr th {\n",
       "        vertical-align: top;\n",
       "    }\n",
       "\n",
       "    .dataframe thead th {\n",
       "        text-align: right;\n",
       "    }\n",
       "</style>\n",
       "<table border=\"1\" class=\"dataframe\">\n",
       "  <thead>\n",
       "    <tr style=\"text-align: right;\">\n",
       "      <th></th>\n",
       "      <th>omset</th>\n",
       "      <th>operasional</th>\n",
       "    </tr>\n",
       "  </thead>\n",
       "  <tbody>\n",
       "    <tr>\n",
       "      <th>0</th>\n",
       "      <td>17</td>\n",
       "      <td>8</td>\n",
       "    </tr>\n",
       "    <tr>\n",
       "      <th>1</th>\n",
       "      <td>12</td>\n",
       "      <td>7</td>\n",
       "    </tr>\n",
       "    <tr>\n",
       "      <th>2</th>\n",
       "      <td>15</td>\n",
       "      <td>5</td>\n",
       "    </tr>\n",
       "    <tr>\n",
       "      <th>3</th>\n",
       "      <td>16</td>\n",
       "      <td>17</td>\n",
       "    </tr>\n",
       "    <tr>\n",
       "      <th>4</th>\n",
       "      <td>17</td>\n",
       "      <td>17</td>\n",
       "    </tr>\n",
       "  </tbody>\n",
       "</table>\n",
       "</div>"
      ],
      "text/plain": [
       "   omset  operasional\n",
       "0     17            8\n",
       "1     12            7\n",
       "2     15            5\n",
       "3     16           17\n",
       "4     17           17"
      ]
     },
     "execution_count": 3,
     "metadata": {},
     "output_type": "execute_result"
    }
   ],
   "source": [
    "n_rows = 5\n",
    "n_cols = 2\n",
    "cols = ['omset', 'operasional']\n",
    "\n",
    "df = pd.DataFrame(np.random.randint(1, 20, size=(n_rows, n_cols)),\n",
    "                 columns=cols)\n",
    "df"
   ]
  },
  {
   "cell_type": "code",
   "execution_count": 4,
   "id": "63c46f52",
   "metadata": {},
   "outputs": [
    {
     "data": {
      "text/html": [
       "<div>\n",
       "<style scoped>\n",
       "    .dataframe tbody tr th:only-of-type {\n",
       "        vertical-align: middle;\n",
       "    }\n",
       "\n",
       "    .dataframe tbody tr th {\n",
       "        vertical-align: top;\n",
       "    }\n",
       "\n",
       "    .dataframe thead th {\n",
       "        text-align: right;\n",
       "    }\n",
       "</style>\n",
       "<table border=\"1\" class=\"dataframe\">\n",
       "  <thead>\n",
       "    <tr style=\"text-align: right;\">\n",
       "      <th></th>\n",
       "      <th>omset</th>\n",
       "      <th>operasional</th>\n",
       "    </tr>\n",
       "  </thead>\n",
       "  <tbody>\n",
       "    <tr>\n",
       "      <th>0</th>\n",
       "      <td>1700000</td>\n",
       "      <td>80000</td>\n",
       "    </tr>\n",
       "    <tr>\n",
       "      <th>1</th>\n",
       "      <td>1200000</td>\n",
       "      <td>70000</td>\n",
       "    </tr>\n",
       "    <tr>\n",
       "      <th>2</th>\n",
       "      <td>1500000</td>\n",
       "      <td>50000</td>\n",
       "    </tr>\n",
       "    <tr>\n",
       "      <th>3</th>\n",
       "      <td>1600000</td>\n",
       "      <td>170000</td>\n",
       "    </tr>\n",
       "    <tr>\n",
       "      <th>4</th>\n",
       "      <td>1700000</td>\n",
       "      <td>170000</td>\n",
       "    </tr>\n",
       "  </tbody>\n",
       "</table>\n",
       "</div>"
      ],
      "text/plain": [
       "     omset  operasional\n",
       "0  1700000        80000\n",
       "1  1200000        70000\n",
       "2  1500000        50000\n",
       "3  1600000       170000\n",
       "4  1700000       170000"
      ]
     },
     "execution_count": 4,
     "metadata": {},
     "output_type": "execute_result"
    }
   ],
   "source": [
    "df['omset'] = df['omset'] * 100_000\n",
    "df['operasional'] = df['operasional'] * 10_000\n",
    "df"
   ]
  },
  {
   "cell_type": "code",
   "execution_count": 7,
   "id": "3f80a2a3",
   "metadata": {},
   "outputs": [
    {
     "name": "stderr",
     "output_type": "stream",
     "text": [
      "C:\\Users\\ACER\\anaconda3\\lib\\site-packages\\pandas\\util\\__init__.py:15: FutureWarning: pandas.util.testing is deprecated. Use the functions in the public API at pandas.testing instead.\n",
      "  import pandas.util.testing\n"
     ]
    },
    {
     "data": {
      "text/html": [
       "<div>\n",
       "<style scoped>\n",
       "    .dataframe tbody tr th:only-of-type {\n",
       "        vertical-align: middle;\n",
       "    }\n",
       "\n",
       "    .dataframe tbody tr th {\n",
       "        vertical-align: top;\n",
       "    }\n",
       "\n",
       "    .dataframe thead th {\n",
       "        text-align: right;\n",
       "    }\n",
       "</style>\n",
       "<table border=\"1\" class=\"dataframe\">\n",
       "  <thead>\n",
       "    <tr style=\"text-align: right;\">\n",
       "      <th></th>\n",
       "      <th>tanggal</th>\n",
       "      <th>omset</th>\n",
       "      <th>operasional</th>\n",
       "    </tr>\n",
       "  </thead>\n",
       "  <tbody>\n",
       "    <tr>\n",
       "      <th>0</th>\n",
       "      <td>2000-01-01</td>\n",
       "      <td>1700000</td>\n",
       "      <td>80000</td>\n",
       "    </tr>\n",
       "    <tr>\n",
       "      <th>1</th>\n",
       "      <td>2000-01-02</td>\n",
       "      <td>1200000</td>\n",
       "      <td>70000</td>\n",
       "    </tr>\n",
       "    <tr>\n",
       "      <th>2</th>\n",
       "      <td>2000-01-03</td>\n",
       "      <td>1500000</td>\n",
       "      <td>50000</td>\n",
       "    </tr>\n",
       "    <tr>\n",
       "      <th>3</th>\n",
       "      <td>2000-01-04</td>\n",
       "      <td>1600000</td>\n",
       "      <td>170000</td>\n",
       "    </tr>\n",
       "    <tr>\n",
       "      <th>4</th>\n",
       "      <td>2000-01-05</td>\n",
       "      <td>1700000</td>\n",
       "      <td>170000</td>\n",
       "    </tr>\n",
       "  </tbody>\n",
       "</table>\n",
       "</div>"
      ],
      "text/plain": [
       "     tanggal    omset  operasional\n",
       "0 2000-01-01  1700000        80000\n",
       "1 2000-01-02  1200000        70000\n",
       "2 2000-01-03  1500000        50000\n",
       "3 2000-01-04  1600000       170000\n",
       "4 2000-01-05  1700000       170000"
      ]
     },
     "execution_count": 7,
     "metadata": {},
     "output_type": "execute_result"
    }
   ],
   "source": [
    "df.index = pd.util.testing.makeDateIndex (n_rows, freq='D')\n",
    "df = df.reset_index()\n",
    "df = df.rename(columns={'index':'tanggal'})\n",
    "df"
   ]
  },
  {
   "cell_type": "code",
   "execution_count": null,
   "id": "1965830b",
   "metadata": {},
   "outputs": [],
   "source": [
    "#menggunakan pd.uti;.testing.makeDateIndex berupa date time. "
   ]
  },
  {
   "cell_type": "code",
   "execution_count": null,
   "id": "1cf38754",
   "metadata": {},
   "outputs": [],
   "source": [
    "#Formatting tampilan data frame"
   ]
  },
  {
   "cell_type": "code",
   "execution_count": 8,
   "id": "a0a87ec9",
   "metadata": {},
   "outputs": [
    {
     "data": {
      "text/html": [
       "<style type=\"text/css\">\n",
       "</style>\n",
       "<table id=\"T_c45e9_\">\n",
       "  <thead>\n",
       "    <tr>\n",
       "      <th class=\"blank level0\" >&nbsp;</th>\n",
       "      <th class=\"col_heading level0 col0\" >tanggal</th>\n",
       "      <th class=\"col_heading level0 col1\" >omset</th>\n",
       "      <th class=\"col_heading level0 col2\" >operasional</th>\n",
       "    </tr>\n",
       "  </thead>\n",
       "  <tbody>\n",
       "    <tr>\n",
       "      <th id=\"T_c45e9_level0_row0\" class=\"row_heading level0 row0\" >0</th>\n",
       "      <td id=\"T_c45e9_row0_col0\" class=\"data row0 col0\" >01/01/00</td>\n",
       "      <td id=\"T_c45e9_row0_col1\" class=\"data row0 col1\" >Rp 1700000.00</td>\n",
       "      <td id=\"T_c45e9_row0_col2\" class=\"data row0 col2\" >Rp 80000.00</td>\n",
       "    </tr>\n",
       "    <tr>\n",
       "      <th id=\"T_c45e9_level0_row1\" class=\"row_heading level0 row1\" >1</th>\n",
       "      <td id=\"T_c45e9_row1_col0\" class=\"data row1 col0\" >02/01/00</td>\n",
       "      <td id=\"T_c45e9_row1_col1\" class=\"data row1 col1\" >Rp 1200000.00</td>\n",
       "      <td id=\"T_c45e9_row1_col2\" class=\"data row1 col2\" >Rp 70000.00</td>\n",
       "    </tr>\n",
       "    <tr>\n",
       "      <th id=\"T_c45e9_level0_row2\" class=\"row_heading level0 row2\" >2</th>\n",
       "      <td id=\"T_c45e9_row2_col0\" class=\"data row2 col0\" >03/01/00</td>\n",
       "      <td id=\"T_c45e9_row2_col1\" class=\"data row2 col1\" >Rp 1500000.00</td>\n",
       "      <td id=\"T_c45e9_row2_col2\" class=\"data row2 col2\" >Rp 50000.00</td>\n",
       "    </tr>\n",
       "    <tr>\n",
       "      <th id=\"T_c45e9_level0_row3\" class=\"row_heading level0 row3\" >3</th>\n",
       "      <td id=\"T_c45e9_row3_col0\" class=\"data row3 col0\" >04/01/00</td>\n",
       "      <td id=\"T_c45e9_row3_col1\" class=\"data row3 col1\" >Rp 1600000.00</td>\n",
       "      <td id=\"T_c45e9_row3_col2\" class=\"data row3 col2\" >Rp 170000.00</td>\n",
       "    </tr>\n",
       "    <tr>\n",
       "      <th id=\"T_c45e9_level0_row4\" class=\"row_heading level0 row4\" >4</th>\n",
       "      <td id=\"T_c45e9_row4_col0\" class=\"data row4 col0\" >05/01/00</td>\n",
       "      <td id=\"T_c45e9_row4_col1\" class=\"data row4 col1\" >Rp 1700000.00</td>\n",
       "      <td id=\"T_c45e9_row4_col2\" class=\"data row4 col2\" >Rp 170000.00</td>\n",
       "    </tr>\n",
       "  </tbody>\n",
       "</table>\n"
      ],
      "text/plain": [
       "<pandas.io.formats.style.Styler at 0x25bbe420b50>"
      ]
     },
     "execution_count": 8,
     "metadata": {},
     "output_type": "execute_result"
    }
   ],
   "source": [
    "formatku = {'tanggal':'{:%d/%m/%y}',\n",
    "           'operasional':'Rp {:.2f}',\n",
    "           'omset':'Rp {:.2f}'}\n",
    "\n",
    "laporan = df.style.format(formatku)\n",
    "laporan"
   ]
  },
  {
   "cell_type": "code",
   "execution_count": 9,
   "id": "06f45d60",
   "metadata": {},
   "outputs": [
    {
     "data": {
      "text/plain": [
       "pandas.io.formats.style.Styler"
      ]
     },
     "execution_count": 9,
     "metadata": {},
     "output_type": "execute_result"
    }
   ],
   "source": [
    "type(laporan)"
   ]
  },
  {
   "cell_type": "code",
   "execution_count": 10,
   "id": "4ee7c71d",
   "metadata": {},
   "outputs": [
    {
     "data": {
      "text/html": [
       "<style type=\"text/css\">\n",
       "</style>\n",
       "<table id=\"T_c45e9_\">\n",
       "  <thead>\n",
       "    <tr>\n",
       "      <th class=\"col_heading level0 col0\" >tanggal</th>\n",
       "      <th class=\"col_heading level0 col1\" >omset</th>\n",
       "      <th class=\"col_heading level0 col2\" >operasional</th>\n",
       "    </tr>\n",
       "  </thead>\n",
       "  <tbody>\n",
       "    <tr>\n",
       "      <td id=\"T_c45e9_row0_col0\" class=\"data row0 col0\" >01/01/00</td>\n",
       "      <td id=\"T_c45e9_row0_col1\" class=\"data row0 col1\" >Rp 1700000.00</td>\n",
       "      <td id=\"T_c45e9_row0_col2\" class=\"data row0 col2\" >Rp 80000.00</td>\n",
       "    </tr>\n",
       "    <tr>\n",
       "      <td id=\"T_c45e9_row1_col0\" class=\"data row1 col0\" >02/01/00</td>\n",
       "      <td id=\"T_c45e9_row1_col1\" class=\"data row1 col1\" >Rp 1200000.00</td>\n",
       "      <td id=\"T_c45e9_row1_col2\" class=\"data row1 col2\" >Rp 70000.00</td>\n",
       "    </tr>\n",
       "    <tr>\n",
       "      <td id=\"T_c45e9_row2_col0\" class=\"data row2 col0\" >03/01/00</td>\n",
       "      <td id=\"T_c45e9_row2_col1\" class=\"data row2 col1\" >Rp 1500000.00</td>\n",
       "      <td id=\"T_c45e9_row2_col2\" class=\"data row2 col2\" >Rp 50000.00</td>\n",
       "    </tr>\n",
       "    <tr>\n",
       "      <td id=\"T_c45e9_row3_col0\" class=\"data row3 col0\" >04/01/00</td>\n",
       "      <td id=\"T_c45e9_row3_col1\" class=\"data row3 col1\" >Rp 1600000.00</td>\n",
       "      <td id=\"T_c45e9_row3_col2\" class=\"data row3 col2\" >Rp 170000.00</td>\n",
       "    </tr>\n",
       "    <tr>\n",
       "      <td id=\"T_c45e9_row4_col0\" class=\"data row4 col0\" >05/01/00</td>\n",
       "      <td id=\"T_c45e9_row4_col1\" class=\"data row4 col1\" >Rp 1700000.00</td>\n",
       "      <td id=\"T_c45e9_row4_col2\" class=\"data row4 col2\" >Rp 170000.00</td>\n",
       "    </tr>\n",
       "  </tbody>\n",
       "</table>\n"
      ],
      "text/plain": [
       "<pandas.io.formats.style.Styler at 0x25bbe420b50>"
      ]
     },
     "execution_count": 10,
     "metadata": {},
     "output_type": "execute_result"
    }
   ],
   "source": [
    "laporan.hide_index()"
   ]
  },
  {
   "cell_type": "code",
   "execution_count": 11,
   "id": "cd82d033",
   "metadata": {},
   "outputs": [
    {
     "data": {
      "text/html": [
       "<style type=\"text/css\">\n",
       "</style>\n",
       "<table id=\"T_c45e9_\">\n",
       "  <caption>Data Omset dan Operasional</caption>\n",
       "  <thead>\n",
       "    <tr>\n",
       "      <th class=\"col_heading level0 col0\" >tanggal</th>\n",
       "      <th class=\"col_heading level0 col1\" >omset</th>\n",
       "      <th class=\"col_heading level0 col2\" >operasional</th>\n",
       "    </tr>\n",
       "  </thead>\n",
       "  <tbody>\n",
       "    <tr>\n",
       "      <td id=\"T_c45e9_row0_col0\" class=\"data row0 col0\" >01/01/00</td>\n",
       "      <td id=\"T_c45e9_row0_col1\" class=\"data row0 col1\" >Rp 1700000.00</td>\n",
       "      <td id=\"T_c45e9_row0_col2\" class=\"data row0 col2\" >Rp 80000.00</td>\n",
       "    </tr>\n",
       "    <tr>\n",
       "      <td id=\"T_c45e9_row1_col0\" class=\"data row1 col0\" >02/01/00</td>\n",
       "      <td id=\"T_c45e9_row1_col1\" class=\"data row1 col1\" >Rp 1200000.00</td>\n",
       "      <td id=\"T_c45e9_row1_col2\" class=\"data row1 col2\" >Rp 70000.00</td>\n",
       "    </tr>\n",
       "    <tr>\n",
       "      <td id=\"T_c45e9_row2_col0\" class=\"data row2 col0\" >03/01/00</td>\n",
       "      <td id=\"T_c45e9_row2_col1\" class=\"data row2 col1\" >Rp 1500000.00</td>\n",
       "      <td id=\"T_c45e9_row2_col2\" class=\"data row2 col2\" >Rp 50000.00</td>\n",
       "    </tr>\n",
       "    <tr>\n",
       "      <td id=\"T_c45e9_row3_col0\" class=\"data row3 col0\" >04/01/00</td>\n",
       "      <td id=\"T_c45e9_row3_col1\" class=\"data row3 col1\" >Rp 1600000.00</td>\n",
       "      <td id=\"T_c45e9_row3_col2\" class=\"data row3 col2\" >Rp 170000.00</td>\n",
       "    </tr>\n",
       "    <tr>\n",
       "      <td id=\"T_c45e9_row4_col0\" class=\"data row4 col0\" >05/01/00</td>\n",
       "      <td id=\"T_c45e9_row4_col1\" class=\"data row4 col1\" >Rp 1700000.00</td>\n",
       "      <td id=\"T_c45e9_row4_col2\" class=\"data row4 col2\" >Rp 170000.00</td>\n",
       "    </tr>\n",
       "  </tbody>\n",
       "</table>\n"
      ],
      "text/plain": [
       "<pandas.io.formats.style.Styler at 0x25bbe420b50>"
      ]
     },
     "execution_count": 11,
     "metadata": {},
     "output_type": "execute_result"
    }
   ],
   "source": [
    "laporan.set_caption('Data Omset dan Operasional')"
   ]
  },
  {
   "cell_type": "code",
   "execution_count": 19,
   "id": "0f23a38d",
   "metadata": {},
   "outputs": [
    {
     "data": {
      "text/html": [
       "<style type=\"text/css\">\n",
       "#T_c45e9_row0_col1, #T_c45e9_row4_col1 {\n",
       "  background-color: lightgreen;\n",
       "  background-color: lightgreen;\n",
       "  background-color: lightgreen;\n",
       "  background-color: lightgreen;\n",
       "  background-color: lightgreen;\n",
       "  background-color: lightgreen;\n",
       "  background-color: lightgreen;\n",
       "}\n",
       "#T_c45e9_row1_col1 {\n",
       "  background-color: pink;\n",
       "  background-color: pink;\n",
       "  background-color: pink;\n",
       "  background-color: pink;\n",
       "  background-color: pink;\n",
       "  background-color: softpink;\n",
       "  background-color: pink;\n",
       "}\n",
       "#T_c45e9_row2_col2 {\n",
       "  background-color: lightblue;\n",
       "  background-color: lightblue;\n",
       "  background-color: lightyellow;\n",
       "  background-color: yellow;\n",
       "  background-color: lightgreen;\n",
       "  background-color: lightgreen;\n",
       "  background-color: lightgreen;\n",
       "}\n",
       "#T_c45e9_row3_col2, #T_c45e9_row4_col2 {\n",
       "  background-color: grey;\n",
       "  background-color: grey;\n",
       "  background-color: grey;\n",
       "  background-color: grey;\n",
       "  background-color: grey;\n",
       "  background-color: grey;\n",
       "  background-color: grey;\n",
       "}\n",
       "</style>\n",
       "<table id=\"T_c45e9_\">\n",
       "  <caption>Data Omset dan Operasional</caption>\n",
       "  <thead>\n",
       "    <tr>\n",
       "      <th class=\"col_heading level0 col0\" >tanggal</th>\n",
       "      <th class=\"col_heading level0 col1\" >omset</th>\n",
       "      <th class=\"col_heading level0 col2\" >operasional</th>\n",
       "    </tr>\n",
       "  </thead>\n",
       "  <tbody>\n",
       "    <tr>\n",
       "      <td id=\"T_c45e9_row0_col0\" class=\"data row0 col0\" >01/01/00</td>\n",
       "      <td id=\"T_c45e9_row0_col1\" class=\"data row0 col1\" >Rp 1700000.00</td>\n",
       "      <td id=\"T_c45e9_row0_col2\" class=\"data row0 col2\" >Rp 80000.00</td>\n",
       "    </tr>\n",
       "    <tr>\n",
       "      <td id=\"T_c45e9_row1_col0\" class=\"data row1 col0\" >02/01/00</td>\n",
       "      <td id=\"T_c45e9_row1_col1\" class=\"data row1 col1\" >Rp 1200000.00</td>\n",
       "      <td id=\"T_c45e9_row1_col2\" class=\"data row1 col2\" >Rp 70000.00</td>\n",
       "    </tr>\n",
       "    <tr>\n",
       "      <td id=\"T_c45e9_row2_col0\" class=\"data row2 col0\" >03/01/00</td>\n",
       "      <td id=\"T_c45e9_row2_col1\" class=\"data row2 col1\" >Rp 1500000.00</td>\n",
       "      <td id=\"T_c45e9_row2_col2\" class=\"data row2 col2\" >Rp 50000.00</td>\n",
       "    </tr>\n",
       "    <tr>\n",
       "      <td id=\"T_c45e9_row3_col0\" class=\"data row3 col0\" >04/01/00</td>\n",
       "      <td id=\"T_c45e9_row3_col1\" class=\"data row3 col1\" >Rp 1600000.00</td>\n",
       "      <td id=\"T_c45e9_row3_col2\" class=\"data row3 col2\" >Rp 170000.00</td>\n",
       "    </tr>\n",
       "    <tr>\n",
       "      <td id=\"T_c45e9_row4_col0\" class=\"data row4 col0\" >05/01/00</td>\n",
       "      <td id=\"T_c45e9_row4_col1\" class=\"data row4 col1\" >Rp 1700000.00</td>\n",
       "      <td id=\"T_c45e9_row4_col2\" class=\"data row4 col2\" >Rp 170000.00</td>\n",
       "    </tr>\n",
       "  </tbody>\n",
       "</table>\n"
      ],
      "text/plain": [
       "<pandas.io.formats.style.Styler at 0x25bbe420b50>"
      ]
     },
     "execution_count": 19,
     "metadata": {},
     "output_type": "execute_result"
    }
   ],
   "source": [
    "laporan.highlight_min('omset', color='pink')\n",
    "laporan.highlight_max('omset', color='lightgreen')\n",
    "\n",
    "laporan.highlight_min('operasional', color='lightgreen')\n",
    "laporan.highlight_max('operasional', color='grey')"
   ]
  },
  {
   "cell_type": "code",
   "execution_count": null,
   "id": "fa92b8ba",
   "metadata": {},
   "outputs": [],
   "source": []
  }
 ],
 "metadata": {
  "kernelspec": {
   "display_name": "Python 3 (ipykernel)",
   "language": "python",
   "name": "python3"
  },
  "language_info": {
   "codemirror_mode": {
    "name": "ipython",
    "version": 3
   },
   "file_extension": ".py",
   "mimetype": "text/x-python",
   "name": "python",
   "nbconvert_exporter": "python",
   "pygments_lexer": "ipython3",
   "version": "3.9.7"
  }
 },
 "nbformat": 4,
 "nbformat_minor": 5
}
